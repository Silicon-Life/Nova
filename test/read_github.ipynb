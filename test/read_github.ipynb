{
 "cells": [
  {
   "cell_type": "markdown",
   "metadata": {},
   "source": [
    "This script is designed to read a GitHub project and compile all its code files into a single text file. This consolidated file is intended for use with large language models (LLMs) to facilitate reading and understanding the entire project."
   ]
  },
  {
   "cell_type": "code",
   "execution_count": 1,
   "metadata": {},
   "outputs": [],
   "source": [
    "import os\n",
    "import subprocess\n",
    "import fnmatch\n",
    "\n",
    "def clone_github_repo(github_url, local_dir):\n",
    "    if os.path.exists(local_dir):\n",
    "        print(f\"Directory {local_dir} already exists.\")\n",
    "        return\n",
    "    subprocess.run([\"git\", \"clone\", github_url, local_dir], check=True)\n",
    "\n",
    "def gather_code_files(project_path, output_file):\n",
    "    code_file_extensions = ['*.py', '*.cpp', '*.c', '*.h', '*.java', '*.js', '*.md', '*.ipynb']\n",
    "    code_files = []\n",
    "    \n",
    "    for root, _, files in os.walk(project_path):\n",
    "        for file in files:\n",
    "            if any(fnmatch.fnmatch(file, ext) for ext in code_file_extensions):\n",
    "                file_path = os.path.join(root, file)\n",
    "                code_files.append(file_path)\n",
    "\n",
    "    with open(output_file, 'w', encoding='utf-8') as f:\n",
    "        for file_path in code_files:\n",
    "            f.write(f\"File: {file_path}\\n\")\n",
    "            with open(file_path, 'r', encoding='utf-8', errors='ignore') as code_file:\n",
    "                f.write(code_file.read())\n",
    "            f.write(\"\\n\\n\")\n",
    "\n",
    "    with open(output_file, 'w', encoding='utf-8') as f:\n",
    "        for file_path in code_files:\n",
    "            f.write(f\"File: {file_path}\\n\")\n",
    "            with open(file_path, 'r', encoding='utf-8', errors='ignore') as code_file:\n",
    "                f.write(code_file.read())\n",
    "            f.write(\"\\n\\n\")\n",
    "\n",
    "\n"
   ]
  },
  {
   "cell_type": "code",
   "execution_count": 3,
   "metadata": {},
   "outputs": [
    {
     "name": "stdout",
     "output_type": "stream",
     "text": [
      "Code files and their contents have been written to project_code.txt\n"
     ]
    }
   ],
   "source": [
    "def main():\n",
    "    choice = '2'\n",
    "\n",
    "    if choice == '1':\n",
    "        github_url = \"https://github.com/Silicon-Life/Nova.git\"\n",
    "        local_dir = \"temp_repo\"\n",
    "        clone_github_repo(github_url, local_dir)\n",
    "        project_path = local_dir\n",
    "    elif choice == '2':\n",
    "        project_path = r'C:\\Users\\ps\\Documents\\Academic\\Papers\\Agents\\Nova'\n",
    "    else:\n",
    "        print(\"Invalid choice\")\n",
    "        return\n",
    "\n",
    "    output_file = \"project_code.txt\"\n",
    "    gather_code_files(project_path, output_file)\n",
    "    print(f\"Code files and their contents have been written to {output_file}\")\n",
    "\n",
    "\n",
    "main()"
   ]
  },
  {
   "cell_type": "code",
   "execution_count": null,
   "metadata": {},
   "outputs": [],
   "source": []
  },
  {
   "cell_type": "code",
   "execution_count": 3,
   "metadata": {},
   "outputs": [
    {
     "name": "stdout",
     "output_type": "stream",
     "text": [
      "Code files and their contents have been written to autogen.txt\n"
     ]
    }
   ],
   "source": [
    "def main():\n",
    "    choice = '1'\n",
    "\n",
    "    if choice == '1':\n",
    "        github_url = \"https://github.com/microsoft/autogen.git\"\n",
    "        local_dir = \"autogen\"\n",
    "        clone_github_repo(github_url, local_dir)\n",
    "        project_path = local_dir\n",
    "    elif choice == '2':\n",
    "        project_path = r'C:\\Users\\ps\\Documents\\Academic\\Papers\\Agents\\Nova'\n",
    "    else:\n",
    "        print(\"Invalid choice\")\n",
    "        return\n",
    "\n",
    "    output_file = \"autogen.txt\"\n",
    "    gather_code_files(project_path, output_file)\n",
    "    print(f\"Code files and their contents have been written to {output_file}\")\n",
    "\n",
    "\n",
    "main()"
   ]
  },
  {
   "cell_type": "code",
   "execution_count": 4,
   "metadata": {},
   "outputs": [
    {
     "name": "stdout",
     "output_type": "stream",
     "text": [
      "Code files and their contents have been written to MetaGPT.txt\n"
     ]
    }
   ],
   "source": [
    "def main():\n",
    "    choice = '1'\n",
    "\n",
    "    if choice == '1':\n",
    "        github_url = \"https://github.com/geekan/MetaGPT.git\"\n",
    "        local_dir = \"MetaGPT\"\n",
    "        clone_github_repo(github_url, local_dir)\n",
    "        project_path = local_dir\n",
    "    elif choice == '2':\n",
    "        project_path = r'C:\\Users\\ps\\Documents\\Academic\\Papers\\Agents\\Nova'\n",
    "    else:\n",
    "        print(\"Invalid choice\")\n",
    "        return\n",
    "\n",
    "    output_file = \"MetaGPT.txt\"\n",
    "    gather_code_files(project_path, output_file)\n",
    "    print(f\"Code files and their contents have been written to {output_file}\")\n",
    "\n",
    "\n",
    "main()"
   ]
  },
  {
   "cell_type": "code",
   "execution_count": 5,
   "metadata": {},
   "outputs": [
    {
     "name": "stdout",
     "output_type": "stream",
     "text": [
      "Code files and their contents have been written to camel.txt\n"
     ]
    }
   ],
   "source": [
    "def main():\n",
    "    choice = '1'\n",
    "\n",
    "    if choice == '1':\n",
    "        github_url = \"https://github.com/camel-ai/camel.git\"\n",
    "        local_dir = \"camel\"\n",
    "        clone_github_repo(github_url, local_dir)\n",
    "        project_path = local_dir\n",
    "    elif choice == '2':\n",
    "        project_path = r'C:\\Users\\ps\\Documents\\Academic\\Papers\\Agents\\Nova'\n",
    "    else:\n",
    "        print(\"Invalid choice\")\n",
    "        return\n",
    "\n",
    "    output_file = \"camel.txt\"\n",
    "    gather_code_files(project_path, output_file)\n",
    "    print(f\"Code files and their contents have been written to {output_file}\")\n",
    "\n",
    "\n",
    "main()"
   ]
  },
  {
   "cell_type": "code",
   "execution_count": null,
   "metadata": {},
   "outputs": [],
   "source": []
  }
 ],
 "metadata": {
  "kernelspec": {
   "display_name": "nova",
   "language": "python",
   "name": "python3"
  },
  "language_info": {
   "codemirror_mode": {
    "name": "ipython",
    "version": 3
   },
   "file_extension": ".py",
   "mimetype": "text/x-python",
   "name": "python",
   "nbconvert_exporter": "python",
   "pygments_lexer": "ipython3",
   "version": "3.11.8"
  }
 },
 "nbformat": 4,
 "nbformat_minor": 2
}
